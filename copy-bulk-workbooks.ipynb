{
 "cells": [
  {
   "cell_type": "markdown",
   "metadata": {},
   "source": [
    "# Bulk Workbook Copy on Tableau Server\n",
    "To bulk copy Tableau workbooks from one project to another on a Tableau Server using the Tableau REST API.\n",
    "This assumes you have access to Tableau Server (not Tableau Online) and necessary permissions.\n",
    "Access to Tableau Server with admin or project leader rights.\n",
    "Personal Access Token (PAT) or username/password"
   ]
  },
  {
   "cell_type": "code",
   "execution_count": null,
   "metadata": {},
   "outputs": [],
   "source": [
    "#bash pip install tableauserverclient"
   ]
  },
  {
   "cell_type": "markdown",
   "metadata": {},
   "source": [
    "## Authentication"
   ]
  },
  {
   "cell_type": "code",
   "execution_count": null,
   "metadata": {},
   "outputs": [],
   "source": [
    "import tableauserverclient as TSC\n",
    "\n",
    "# Replace with your actual Tableau Server info\n",
    "SERVER_URL = '#'\n",
    "SITE_ID = ''  # leave blank for default\n",
    "TOKEN_NAME = 'aamverse'\n",
    "TOKEN_SECRET = 'daaaammnnnngirl'\n",
    "\n",
    "auth = TSC.PersonalAccessTokenAuth(token_name=TOKEN_NAME, personal_access_token=TOKEN_SECRET, site_id=SITE_ID)\n",
    "server = TSC.Server(SERVER_URL, use_server_version=True)"
   ]
  },
  {
   "cell_type": "markdown",
   "metadata": {},
   "source": [
    "##  Exe-cute"
   ]
  },
  {
   "cell_type": "code",
   "execution_count": null,
   "metadata": {},
   "outputs": [],
   "source": [
    "with server.auth.sign_in(auth):\n",
    "    all_projects, _ = server.projects.get()\n",
    "    source_project = next((p for p in all_projects if p.name == 'Source Project Name'), None)\n",
    "    target_project = next((p for p in all_projects if p.name == 'Target Project Name'), None)\n",
    "\n",
    "    if not source_project or not target_project:\n",
    "        raise Exception(\"Dude, your projects' name is not match just like me and her.\")\n",
    "\n",
    "    print(f\"Source ID: {source_project.id}, Target ID: {target_project.id}\")\n",
    "    \n",
    "    #Get Workbooks\n",
    "    all_workbooks, _ = server.workbooks.get()\n",
    "    workbooks_to_copy = [wb for wb in all_workbooks if wb.project_id == source_project.id]\n",
    "    \n",
    "    #Download each workbook\n",
    "    for wb in workbooks_to_copy:\n",
    "        print(f\"Downloading workbook: {wb.name}\")\n",
    "        server.workbooks.download(wb.id, filepath=f\"{wb.name}.twbx\", include_extract=True)\n",
    "\n",
    "    #Publish to new Project\n",
    "    for wb in workbooks_to_copy:\n",
    "        wb_file_path = f\"{wb.name}.twbx\"\n",
    "\n",
    "        # Create new workbook item for upload\n",
    "        new_wb = TSC.WorkbookItem(name=wb.name, project_id=target_project.id)\n",
    "        print(f\"Publishing workbook: {wb.name} to {target_project.name}\")\n",
    "        \n",
    "        new_workbook = server.workbooks.publish(new_wb, wb_file_path, mode=TSC.Server.PublishMode.CreateNew)"
   ]
  },
  {
   "cell_type": "markdown",
   "metadata": {},
   "source": [
    "### Clean up temp data"
   ]
  },
  {
   "cell_type": "code",
   "execution_count": null,
   "metadata": {},
   "outputs": [],
   "source": [
    "import os\n",
    "\n",
    "for wb in workbooks_to_copy:\n",
    "    os.remove(f\"{wb.name}.twbx\")"
   ]
  }
 ],
 "metadata": {
  "language_info": {
   "name": "python"
  }
 },
 "nbformat": 4,
 "nbformat_minor": 2
}
